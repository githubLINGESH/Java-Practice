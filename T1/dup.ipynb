{
 "cells": [
  {
   "cell_type": "code",
   "execution_count": null,
   "metadata": {},
   "outputs": [],
   "source": [
    "a = [1,2,7,4,3,3,4,7]\n",
    "v = 0\n",
    "n = []\n",
    "n.append(a[0])\n",
    "for i in range(1,len(a)):\n",
    "    \n",
    "    if a[i] in n:\n",
    "        continue\n",
    "    else:\n",
    "        n.append(a[i])\n",
    "\n",
    "print(n)    "
   ]
  },
  {
   "cell_type": "code",
   "execution_count": null,
   "metadata": {},
   "outputs": [],
   "source": [
    "for k in range(len(a)):\n",
    "    if k!=len(a)-1:\n",
    "        for m in range(0,len(a)):\n",
    "            if a[k]==a[m]:\n",
    "                a.remove(a[m])\n",
    "\n",
    "print(a)"
   ]
  },
  {
   "cell_type": "code",
   "execution_count": null,
   "metadata": {},
   "outputs": [],
   "source": [
    "v = 0\n",
    "for j in range(len(a)-v):\n",
    "    for i in range(1,len(a)-v):\n",
    "        if a[j]==a[i]:\n",
    "            a.remove(a[i])\n",
    "            v +=1\n",
    "print(a)"
   ]
  },
  {
   "cell_type": "code",
   "execution_count": null,
   "metadata": {},
   "outputs": [],
   "source": []
  },
  {
   "cell_type": "code",
   "execution_count": 25,
   "metadata": {},
   "outputs": [
    {
     "name": "stdout",
     "output_type": "stream",
     "text": [
      "4\n"
     ]
    }
   ],
   "source": [
    "\n",
    "m=4\n",
    "a=[4,3,3,3]\n",
    "\n",
    "def max( m, a):\n",
    "    bus = 0\n",
    "    c = 0\n",
    "\n",
    "    for i in a:\n",
    "        if i > m or c + i > m:\n",
    "            bus+= 1\n",
    "            c = i\n",
    "        else:\n",
    "            c += i\n",
    "    if c > 0:\n",
    "        bus += 1\n",
    "    \n",
    "    return bus\n",
    "\n",
    "print(max(m, a))\n"
   ]
  },
  {
   "cell_type": "code",
   "execution_count": 27,
   "metadata": {},
   "outputs": [
    {
     "name": "stdout",
     "output_type": "stream",
     "text": [
      "not peacefull\n"
     ]
    }
   ],
   "source": [
    "\"\"\"given a colony of ant consisting of n positions. the colony is said\n",
    "to be peacefull if it has equal number of red and black ants . from the given input \n",
    "whether the colony is peacefull or not peacefull\"\"\"\n",
    "\n",
    "n=5\n",
    "r=0\n",
    "b=0\n",
    "ants=[\"Red\",\"Black\",\"Red\",\"Red\",\"Black\"]\n",
    "for i in ants:\n",
    "    if i ==\"Red\":\n",
    "        r+=1\n",
    "    else:\n",
    "        b+=1\n",
    "\n",
    "if(r==b):\n",
    "    print(\"peacefull\")\n",
    "else:\n",
    "    print(\"not peacefull\")"
   ]
  },
  {
   "cell_type": "code",
   "execution_count": 1,
   "metadata": {},
   "outputs": [
    {
     "name": "stdout",
     "output_type": "stream",
     "text": [
      " \n",
      " \n",
      " \n",
      " \n",
      " \n",
      "\n",
      " \n",
      " \n",
      " \n",
      " \n",
      " \n",
      "\n",
      " \n",
      " \n",
      "* \n",
      " \n",
      "\n",
      " \n",
      " \n",
      " \n",
      " \n",
      " \n",
      "\n",
      " \n",
      " \n",
      " \n",
      " \n",
      " \n",
      "\n"
     ]
    }
   ],
   "source": [
    "n=5\n",
    "m=(n//2)+1\n",
    "for i in range(n):\n",
    "    for j in range(n):\n",
    "        if( i==j and j==n-i-1):\n",
    "            if(i<m):\n",
    "                print(\"*\",end=\"\")\n",
    "        else:\n",
    "            print(\" \")\n",
    "    print()"
   ]
  },
  {
   "cell_type": "code",
   "execution_count": 53,
   "metadata": {},
   "outputs": [
    {
     "name": "stdout",
     "output_type": "stream",
     "text": [
      "*  *  *  *  *  *  *  \n",
      "*  *           *  *  \n",
      "*     *     *     *  \n",
      "*        *        *  \n",
      "*                 *  \n",
      "*                 *  \n",
      "*  *  *  *  *  *  *  \n"
     ]
    }
   ],
   "source": [
    "n=7\n",
    "m=(n//2)+1\n",
    "for i in range(n):\n",
    "    for j in range(n):\n",
    "        if((i==j and i<m or i==n-1 or j==0)or (j==n-i-1 and i<m or i==0 or j==n-1)):\n",
    "            print(\"*\",end=\"  \")\n",
    "        else:\n",
    "            print(\" \",end=\"  \")\n",
    "    print()"
   ]
  },
  {
   "cell_type": "code",
   "execution_count": 29,
   "metadata": {},
   "outputs": [
    {
     "name": "stdout",
     "output_type": "stream",
     "text": [
      "2\n"
     ]
    }
   ],
   "source": [
    "n=5\n",
    "m=n//2\n",
    "print(m)"
   ]
  },
  {
   "cell_type": "code",
   "execution_count": 58,
   "metadata": {},
   "outputs": [
    {
     "name": "stdout",
     "output_type": "stream",
     "text": [
      "* * * * * * * \n",
      "* *       * * \n",
      "*   *   *   * \n",
      "*     *     * \n",
      "*           * \n",
      "*           * \n",
      "* * * * * * * \n"
     ]
    }
   ],
   "source": [
    "for i in range (n):\n",
    "    for j in range(n):\n",
    "        if(i==0 or j==n-1 or j==0 or i==n-1 or (i==j or j==n-i-1) and i<m):\n",
    "            print(\"*\",end=\" \")\n",
    "        else:\n",
    "            print(\" \",end=\" \")\n",
    "    print()"
   ]
  },
  {
   "cell_type": "code",
   "execution_count": null,
   "metadata": {},
   "outputs": [],
   "source": []
  }
 ],
 "metadata": {
  "kernelspec": {
   "display_name": "Python 3",
   "language": "python",
   "name": "python3"
  },
  "language_info": {
   "codemirror_mode": {
    "name": "ipython",
    "version": 3
   },
   "file_extension": ".py",
   "mimetype": "text/x-python",
   "name": "python",
   "nbconvert_exporter": "python",
   "pygments_lexer": "ipython3",
   "version": "3.10.5"
  }
 },
 "nbformat": 4,
 "nbformat_minor": 2
}
