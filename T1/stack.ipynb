{
 "cells": [
  {
   "cell_type": "code",
   "execution_count": 11,
   "metadata": {},
   "outputs": [
    {
     "name": "stdout",
     "output_type": "stream",
     "text": [
      "no\n"
     ]
    }
   ],
   "source": [
    "\n",
    "sta ='()()()('\n",
    "\n",
    "arr =[]\n",
    "top =-1\n",
    "\n",
    "for ei in sta:\n",
    "    if ei=='(' or ei==')' and top==-1:\n",
    "        arr.append(ei)\n",
    "        top+=1\n",
    "    if ei==')' and top!=-1:\n",
    "        if arr[top]=='(':\n",
    "            arr.pop()\n",
    "            top-=1\n",
    "\n",
    "if top==-1:\n",
    "    print(\"yes\")\n",
    "    \n",
    "else:\n",
    "    print(\"no\")\n",
    "    "
   ]
  },
  {
   "cell_type": "code",
   "execution_count": 15,
   "metadata": {},
   "outputs": [
    {
     "name": "stdout",
     "output_type": "stream",
     "text": [
      "5\n",
      "7\n"
     ]
    }
   ],
   "source": [
    "n = 10\n",
    "\n",
    "for i in range(0,n):\n",
    "    if i%i!=0:\n",
    "        print(i)"
   ]
  },
  {
   "cell_type": "code",
   "execution_count": 38,
   "metadata": {},
   "outputs": [
    {
     "name": "stdout",
     "output_type": "stream",
     "text": [
      "12\n"
     ]
    }
   ],
   "source": [
    "con_s = 'aaaabbaccccdd'\n",
    "f = 0\n",
    "c = 1\n",
    "for p in range(1,len(con_s)):\n",
    "    if con_s[p] == con_s[p-1]:\n",
    "        c += 1\n",
    "    else:\n",
    "        if c%2==0:\n",
    "            f = f+c\n",
    "        c = 1\n",
    "if c%2==0:\n",
    "    f=f+c\n",
    "\n",
    "print(f)\n",
    "\n"
   ]
  },
  {
   "cell_type": "code",
   "execution_count": null,
   "metadata": {},
   "outputs": [],
   "source": []
  }
 ],
 "metadata": {
  "kernelspec": {
   "display_name": "Python 3",
   "language": "python",
   "name": "python3"
  },
  "language_info": {
   "codemirror_mode": {
    "name": "ipython",
    "version": 3
   },
   "file_extension": ".py",
   "mimetype": "text/x-python",
   "name": "python",
   "nbconvert_exporter": "python",
   "pygments_lexer": "ipython3",
   "version": "3.10.5"
  }
 },
 "nbformat": 4,
 "nbformat_minor": 2
}
