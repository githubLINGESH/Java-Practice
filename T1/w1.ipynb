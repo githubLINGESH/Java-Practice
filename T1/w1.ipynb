{
 "cells": [
  {
   "cell_type": "code",
   "execution_count": null,
   "metadata": {},
   "outputs": [],
   "source": [
    "dict ={\n",
    "    'a':1,\n",
    "    'b':[2,3,4],\n",
    "    'lis':'amr'\n",
    "}\n",
    "\n",
    "li=[2,3,4]\n",
    "\n",
    "print(li)\n",
    "\n",
    "dict"
   ]
  },
  {
   "cell_type": "code",
   "execution_count": 14,
   "metadata": {},
   "outputs": [
    {
     "name": "stdout",
     "output_type": "stream",
     "text": [
      "[27, 36, 45]\n"
     ]
    },
    {
     "data": {
      "text/plain": [
       "[27, 36, 45]"
      ]
     },
     "execution_count": 14,
     "metadata": {},
     "output_type": "execute_result"
    }
   ],
   "source": [
    "l = [3, 4, 5]\n",
    "a = map(lambda x: x*9, l)\n",
    "sq = list(a)\n",
    "print(sq)\n",
    "\n",
    "\n",
    "sw=[]\n",
    "\n",
    "for i in sq:\n",
    "    if i>len(sq):\n",
    "        for j in range(0,1):\n",
    "            sw.append(i)\n",
    "    else:\n",
    "        print(\"hey\")\n",
    "        \n",
    "sw\n"
   ]
  },
  {
   "cell_type": "code",
   "execution_count": 17,
   "metadata": {},
   "outputs": [
    {
     "name": "stdout",
     "output_type": "stream",
     "text": [
      "Outer Loop - Iteration 0\n",
      "    Inner Loop - Iteration 0\n",
      "       2nd Inner Loop - Iteration 0\n",
      "       2nd Inner Loop - Iteration 1\n",
      "    Inner Loop - Iteration 1\n",
      "       2nd Inner Loop - Iteration 0\n",
      "       2nd Inner Loop - Iteration 1\n",
      "Outer Loop - Iteration 1\n",
      "    Inner Loop - Iteration 0\n",
      "       2nd Inner Loop - Iteration 0\n",
      "       2nd Inner Loop - Iteration 1\n",
      "    Inner Loop - Iteration 1\n",
      "       2nd Inner Loop - Iteration 0\n",
      "       2nd Inner Loop - Iteration 1\n",
      "Outer Loop - Iteration 2\n",
      "    Inner Loop - Iteration 0\n",
      "       2nd Inner Loop - Iteration 0\n",
      "       2nd Inner Loop - Iteration 1\n",
      "    Inner Loop - Iteration 1\n",
      "       2nd Inner Loop - Iteration 0\n",
      "       2nd Inner Loop - Iteration 1\n",
      "Loop Execution Complete\n"
     ]
    }
   ],
   "source": [
    "# Nested For Loop Tracing Example\n",
    "\n",
    "# Outer loop\n",
    "for i in range(3):\n",
    "    print(f\"Outer Loop - Iteration {i}\")\n",
    "\n",
    "    # Inner loop\n",
    "    for j in range(2):\n",
    "        print(f\"    Inner Loop - Iteration {j}\")\n",
    "        \n",
    "        for k in range(2):\n",
    "            print(f\"       2nd Inner Loop - Iteration\",k)\n",
    "\n",
    "print(\"Loop Execution Complete\")\n"
   ]
  },
  {
   "cell_type": "code",
   "execution_count": 41,
   "metadata": {},
   "outputs": [
    {
     "name": "stdout",
     "output_type": "stream",
     "text": [
      "<class 'str'>\n",
      "centered string: <built-in method center of str object at 0x0000025573D57A70>\n",
      "panda       panda\n",
      " \n",
      "H\n",
      "Hello\n",
      "[2, 2, 4]\n",
      "('kohli', '25', '25')\n",
      "no match found\n",
      "2566038978416 d jadeja\n",
      "before => 4 , now =>  3\n",
      "before => 3 , now =>  4\n"
     ]
    }
   ],
   "source": [
    "x= str(5)\n",
    "print(type(x))\n",
    "\n",
    "s=str('   panda   ')\n",
    "\n",
    "print(\"centered string:\",s[0].center)\n",
    "print(s.lstrip(),s.rstrip())\n",
    "\n",
    "print(s[0])\n",
    "print('Hello'[0])\n",
    "print(\"Hello\")\n",
    "\n",
    "s.replace('pan','taa')\n",
    "\n",
    "l=[2,2,4]\n",
    "print(l)\n",
    "\n",
    "t=('kohli','25','25')\n",
    "print(t)\n",
    "\n",
    "set={'kohli','jadeja','kohli'}\n",
    "max(set),min(set)\n",
    "\n",
    "\n",
    "for i in set:\n",
    "    if i.startswith('ja') | s.endswith('a'):\n",
    "        print(id(i[0]),i[2],i)\n",
    "    else:\n",
    "        print('no match found')\n",
    "\n",
    "callable(i[0])\n",
    "complex()\n",
    "\n",
    "#swapping try\n",
    "\n",
    "a= int(4)\n",
    "b= int(3)\n",
    "\n",
    "c=a+b\n",
    "a=b\n",
    "b=c-b\n",
    "\n",
    "print(\"before => 4 , now => \",a)\n",
    "print(\"before => 3 , now => \",b)\n",
    "\n",
    "\n"
   ]
  },
  {
   "cell_type": "code",
   "execution_count": 107,
   "metadata": {},
   "outputs": [
    {
     "name": "stdout",
     "output_type": "stream",
     "text": [
      "[3, 4, 0, 5, 2, 3]\n",
      "no matches found\n",
      "no matches found\n",
      "first value: 3 Equaled value: 3\n",
      "match found at: 0\n",
      "first value: 3 Equaled value: 3\n",
      "match found at: 5\n",
      "no matches found\n",
      "no matches found\n"
     ]
    }
   ],
   "source": [
    "#list operations\n",
    "\n",
    "li = [3,4,5]\n",
    "li.append(2)\n",
    "li.append(3)\n",
    "\n",
    "\n",
    "li.insert(2,0)\n",
    "\n",
    "print(li)\n",
    "\n",
    "for i in li:\n",
    "    if li[0] == li[i]:\n",
    "        print(\"first value:\",li[0],\"Equaled value:\",li[i])\n",
    "        print(\"match found at:\",i)\n",
    "    else:\n",
    "        print(\"no matches found\")\n",
    "\n",
    "\n"
   ]
  },
  {
   "cell_type": "code",
   "execution_count": 118,
   "metadata": {},
   "outputs": [
    {
     "ename": "SyntaxError",
     "evalue": "'return' outside function (88740620.py, line 7)",
     "output_type": "error",
     "traceback": [
      "\u001b[1;36m  Input \u001b[1;32mIn [118]\u001b[1;36m\u001b[0m\n\u001b[1;33m    return a\u001b[0m\n\u001b[1;37m    ^\u001b[0m\n\u001b[1;31mSyntaxError\u001b[0m\u001b[1;31m:\u001b[0m 'return' outside function\n"
     ]
    }
   ],
   "source": [
    "li=[2,3,4]\n",
    "target=6\n",
    "\n",
    "for i in range(len(li)-1):\n",
    "    if (li[i]+li[i+1]) == target:\n",
    "        \n",
    "        \n",
    "        \n",
    "class Solution:\n",
    "    def twoSum(self, nums: List[int], target: int) -> List[int]:\n",
    "        for i in range(len(nums)-1):\n",
    "            if nums[i+1]+nums[i] == target:\n",
    "                return i+1,i\n",
    "\n"
   ]
  },
  {
   "cell_type": "code",
   "execution_count": 40,
   "metadata": {},
   "outputs": [
    {
     "name": "stdout",
     "output_type": "stream",
     "text": [
      "11\n",
      "r\n",
      "a\n",
      "i\n",
      "n\n",
      "a\n",
      "False\n",
      "Yes hello,world has wor\n",
      "llo hel\n",
      "ello,world\n",
      "rl\n",
      "['hell', ',w', 'rld']\n"
     ]
    },
    {
     "data": {
      "text/plain": [
       "'A'"
      ]
     },
     "execution_count": 40,
     "metadata": {},
     "output_type": "execute_result"
    }
   ],
   "source": [
    "a = \"hello,world\"\n",
    "\n",
    "print(len(a))\n",
    "for i in 'raina':\n",
    "    print(i)\n",
    "    \n",
    "print('pp' in a)\n",
    "\n",
    "if 'wor' in a:\n",
    "    print('Yes',a,'has wor')\n",
    "\n",
    "#slicing the string\n",
    "print(a[2:5],a[:3])\n",
    "print(a[1:])\n",
    "print(a[-3:-1])\n",
    "\n",
    "print(a.split('o'))\n",
    "\n",
    "#separating vowel and alpha from a string\n",
    "\n",
    "a = str(input(\"Enter the String:\"))\n",
    "ord(a)\n",
    "\n",
    "a.upper()\n",
    "\n",
    "\n",
    "\n"
   ]
  },
  {
   "cell_type": "code",
   "execution_count": 50,
   "metadata": {},
   "outputs": [
    {
     "name": "stdout",
     "output_type": "stream",
     "text": [
      "The string you entered hinry\n",
      "('the consonants found :', 4)\n"
     ]
    }
   ],
   "source": [
    "#counting the no of consonants in a string\n",
    "\n",
    "a = str(input(\"enter your name\"))\n",
    "\n",
    "\n",
    "def put(a):\n",
    "    \n",
    "    c = 0\n",
    "    \n",
    "    for i in range(len(a)):\n",
    "        \n",
    "        if (isalpha(a[i])):\n",
    "            c+=1\n",
    "        \n",
    "    return 'the consonants found :',c\n",
    "    \n",
    "def isalpha(ch):\n",
    "    \n",
    "    ch = ch.upper()\n",
    "    \n",
    "    return not (ch =='A' or ch =='I' or ch == 'O' or ch =='U' or ch=='E' and ord(ch)<=65 and ord(ch)>=90)\n",
    "\n",
    "print(\"The string you entered\",a)\n",
    "print(put(a))\n",
    "            "
   ]
  },
  {
   "cell_type": "code",
   "execution_count": 74,
   "metadata": {},
   "outputs": [
    {
     "name": "stdout",
     "output_type": "stream",
     "text": [
      "virat\n"
     ]
    }
   ],
   "source": [
    "#to replace char conditionally\n",
    "\n",
    "s = 'varit'\n",
    "v1 = 'a'\n",
    "v2 = 'i'\n",
    "\n",
    "for i in range(len(s)):\n",
    "    if v1 == s[i]:\n",
    "        \n",
    "        #slicing and replacing the v2\n",
    "        s = s[0:i] + v2 + s[i+1:]\n",
    "    \n",
    "    elif v2 == s[i]:\n",
    "        \n",
    "        s = s[0:i] + v1 + s[i+1:]\n",
    "\n",
    "aa = s\n",
    "print(aa)\n",
    "        "
   ]
  },
  {
   "cell_type": "code",
   "execution_count": 72,
   "metadata": {},
   "outputs": [
    {
     "name": "stdout",
     "output_type": "stream",
     "text": [
      "geeksforgeeks\n"
     ]
    }
   ],
   "source": [
    "s = \"grrksfoegrrks\"\n",
    "c1 = 'e'\n",
    "c2 = 'r'\n",
    "l = len(s) \n",
    "\t\n",
    "\t# loop to traverse in the string \n",
    "for i in range(l): \n",
    "\t\t\n",
    "\t\t# check for c1 and replace \n",
    "\t\tif (s[i] == c1): \n",
    "\t\t\ts = s[0:i] + c2 + s[i + 1:] \n",
    "\t\t\n",
    "\t\t# check for c2 and replace \n",
    "\t\telif (s[i] == c2): \n",
    "\t\t\ts = s[0:i] + c1 + s[i + 1:]\n",
    "   \n",
    "print(s)\n",
    "\n"
   ]
  },
  {
   "cell_type": "code",
   "execution_count": 87,
   "metadata": {},
   "outputs": [
    {
     "name": "stdout",
     "output_type": "stream",
     "text": [
      "\"Hi, my name is Lingeshwaran,I'm currently doing 2nd year Btech Ai and ds in Smvec and I'm a student who participated in the last GDSC program. Today, I want to talk to you about my technical skills in cloud computing and my leadership skills, and why I'm the right person to be a GDSC Leader at our institution.\"\n",
      "So First of All a have done some ML projects which invloves cloud Computing and \"During the GDSC program, I learned a lot about cloud computing, I have a good understanding of cloud computing, and so I can proper guide them towards this.\n",
      "\n",
      "\"Furthermore, I discovered my leadership skills during the program. I found that I could motivate and guide who are participating in GDSC, leading them towards successful outcomes. As a GDSC Leader, I can help students to achieve thier goal through mentorship and make a positive impact.\"\n",
      "\n",
      "\"GDSC should know that I'm an expert in cloud computing with a passion for technology and its impact on society. I'm also a natural leader who can guide and mentor fellow students towards success. I'm excited to take on the role of GDSC Leader at our institution and help make a difference.\"\n",
      "\n",
      "\"Let's make a positive GDSC community to achieve our goals. Thank you.\"phone laphone laphone la\n"
     ]
    }
   ],
   "source": [
    "a = open(\"D:\\one.txt\",'a',)\n",
    "b=a.writelines(\"phone la\")\n",
    "\n",
    "b = open(\"D:\\one.txt\",'r')\n",
    "print(b.read())"
   ]
  },
  {
   "cell_type": "code",
   "execution_count": 120,
   "metadata": {},
   "outputs": [
    {
     "name": "stdout",
     "output_type": "stream",
     "text": [
      "3 4 56\n"
     ]
    },
    {
     "ename": "TypeError",
     "evalue": "'int' object is not callable",
     "output_type": "error",
     "traceback": [
      "\u001b[1;31m---------------------------------------------------------------------------\u001b[0m",
      "\u001b[1;31mTypeError\u001b[0m                                 Traceback (most recent call last)",
      "\u001b[1;32md:\\py\\w1.ipynb Cell 12\u001b[0m line \u001b[0;36m<cell line: 5>\u001b[1;34m()\u001b[0m\n\u001b[0;32m      <a href='vscode-notebook-cell:/d%3A/py/w1.ipynb#X15sZmlsZQ%3D%3D?line=1'>2</a>\u001b[0m \u001b[39mprint\u001b[39m(\u001b[39m'\u001b[39m\u001b[39m \u001b[39m\u001b[39m'\u001b[39m\u001b[39m.\u001b[39mjoin(\u001b[39mstr\u001b[39m(i) \u001b[39mfor\u001b[39;00m i \u001b[39min\u001b[39;00m licc))\n\u001b[0;32m      <a href='vscode-notebook-cell:/d%3A/py/w1.ipynb#X15sZmlsZQ%3D%3D?line=3'>4</a>\u001b[0m lic \u001b[39m=\u001b[39m \u001b[39mlist\u001b[39m(\u001b[39mmap\u001b[39m(\u001b[39mint\u001b[39m,\u001b[39minput\u001b[39m()\u001b[39m.\u001b[39mstrip()\u001b[39m.\u001b[39msplit()))\n\u001b[1;32m----> <a href='vscode-notebook-cell:/d%3A/py/w1.ipynb#X15sZmlsZQ%3D%3D?line=4'>5</a>\u001b[0m \u001b[39mprint\u001b[39m(\u001b[39msum\u001b[39;49m(lic))\n",
      "\u001b[1;31mTypeError\u001b[0m: 'int' object is not callable"
     ]
    }
   ],
   "source": [
    "licc = [3,4,56]\n",
    "print(' '.join(str(i) for i in licc))\n",
    "\n",
    "lic = list(map(int,input().strip().split()))\n",
    "\n",
    "print(sum(lic))\n"
   ]
  },
  {
   "cell_type": "code",
   "execution_count": 122,
   "metadata": {},
   "outputs": [
    {
     "name": "stdout",
     "output_type": "stream",
     "text": [
      "run \n",
      "dev\n"
     ]
    }
   ],
   "source": [
    "\n",
    "print(\"run \\ndev\")"
   ]
  },
  {
   "cell_type": "code",
   "execution_count": null,
   "metadata": {},
   "outputs": [],
   "source": []
  }
 ],
 "metadata": {
  "kernelspec": {
   "display_name": "Python 3",
   "language": "python",
   "name": "python3"
  },
  "language_info": {
   "codemirror_mode": {
    "name": "ipython",
    "version": 3
   },
   "file_extension": ".py",
   "mimetype": "text/x-python",
   "name": "python",
   "nbconvert_exporter": "python",
   "pygments_lexer": "ipython3",
   "version": "3.10.5"
  }
 },
 "nbformat": 4,
 "nbformat_minor": 2
}
