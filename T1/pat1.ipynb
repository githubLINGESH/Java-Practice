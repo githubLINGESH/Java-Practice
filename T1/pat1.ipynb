{
 "cells": [
  {
   "cell_type": "code",
   "execution_count": 131,
   "metadata": {},
   "outputs": [
    {
     "name": "stdout",
     "output_type": "stream",
     "text": [
      "1*2*3*4*\n",
      " 5*6*7*\n",
      "  8*9*\n",
      "   10*\n"
     ]
    }
   ],
   "source": [
    "n= 4\n",
    "r = n*(n+1)\n",
    "a = 1\n",
    "for i in range(0,n):\n",
    "    print(\" \"*i,end=\"\")\n",
    "    for j in range(0,n-i):\n",
    "        print(str(a)+'*',end=\"\")\n",
    "        a +=1\n",
    "    \n",
    "    print()\n",
    "        \n",
    "for k in range(0,n-i):\n",
    "        print(str(a)+\"*\",end=\"\")\n",
    "        a+=1\n",
    "print()\n"
   ]
  },
  {
   "cell_type": "code",
   "execution_count": 134,
   "metadata": {},
   "outputs": [
    {
     "name": "stdout",
     "output_type": "stream",
     "text": [
      "* * * * * \n",
      "* * * * \n",
      "* * * \n",
      "* * \n",
      "* \n",
      "* \n",
      "* * \n",
      "* * * \n",
      "* * * * \n",
      "* * * * * \n"
     ]
    }
   ],
   "source": [
    "n = 5\n",
    "\n",
    "for i1 in range(0,n):\n",
    "    for j1 in range(0,n-i1):\n",
    "        print(\"*\",end=\" \")\n",
    "        \n",
    "    print()\n",
    "\n",
    "for i1 in range(0,n):\n",
    "    for k1 in range(0,i1+1):\n",
    "        print(\"*\",end=\" \")\n",
    "    print()\n",
    "\n",
    "\n"
   ]
  },
  {
   "cell_type": "code",
   "execution_count": null,
   "metadata": {},
   "outputs": [],
   "source": []
  },
  {
   "cell_type": "code",
   "execution_count": 138,
   "metadata": {},
   "outputs": [
    {
     "name": "stdout",
     "output_type": "stream",
     "text": [
      "[5, 3, 3, 4, 5]\n"
     ]
    }
   ],
   "source": [
    "# odd and Even Number\n",
    "aa = [1,2,3,4,5]\n",
    "for i2 in range(len(aa)):\n",
    "    if i2%2==0:\n",
    "        v = aa[i2]\n",
    "    for j2 in range(0,i+1):\n",
    "        if j2%2==0:\n",
    "            for k2 in range(j2+1,j2,-1):\n",
    "                aa[k2] = aa[k2-1]\n",
    "                \n",
    "            aa[j] = v\n",
    "            break\n",
    "\n",
    "print(aa)"
   ]
  },
  {
   "cell_type": "code",
   "execution_count": null,
   "metadata": {},
   "outputs": [],
   "source": [
    "\n"
   ]
  }
 ],
 "metadata": {
  "kernelspec": {
   "display_name": "Python 3",
   "language": "python",
   "name": "python3"
  },
  "language_info": {
   "codemirror_mode": {
    "name": "ipython",
    "version": 3
   },
   "file_extension": ".py",
   "mimetype": "text/x-python",
   "name": "python",
   "nbconvert_exporter": "python",
   "pygments_lexer": "ipython3",
   "version": "3.10.5"
  }
 },
 "nbformat": 4,
 "nbformat_minor": 2
}
