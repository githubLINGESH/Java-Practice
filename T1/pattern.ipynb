{
 "cells": [
  {
   "cell_type": "code",
   "execution_count": 18,
   "metadata": {},
   "outputs": [
    {
     "name": "stdout",
     "output_type": "stream",
     "text": [
      "        * \n",
      "      * * \n",
      "    * * * \n",
      "  * * * * \n",
      "* * * * * \n"
     ]
    }
   ],
   "source": [
    "n = 5\n",
    "for i in range(0,n):\n",
    "    for j in range(1,n-i):\n",
    "        print(' ',end=\" \")\n",
    "    for j in range(0,i+1):\n",
    "        print(\"*\",end=\" \")\n",
    "    print()"
   ]
  },
  {
   "cell_type": "code",
   "execution_count": 48,
   "metadata": {},
   "outputs": [
    {
     "name": "stdout",
     "output_type": "stream",
     "text": [
      "* * * * * \n",
      "*       * \n",
      "*       * \n",
      "*       * \n",
      "* * * * * \n"
     ]
    }
   ],
   "source": [
    "for i1 in range(0,n):\n",
    "    for j1 in range(0,n):\n",
    "        if i1==0 or i1==n-1 or j1==0 or j1==n-1:\n",
    "            print(\"*\",end=\" \")\n",
    "        else:\n",
    "            print(\" \",end=\" \")\n",
    "    print()\n",
    "\n"
   ]
  },
  {
   "cell_type": "code",
   "execution_count": 64,
   "metadata": {},
   "outputs": [
    {
     "name": "stdout",
     "output_type": "stream",
     "text": [
      "0\n",
      "1\n",
      "3\n",
      "6\n",
      "10\n",
      "10\n",
      "11\n",
      "13\n",
      "16\n",
      "20\n"
     ]
    }
   ],
   "source": [
    "s = 0\n",
    "nu =3\n",
    "for i1 in range(1,nu):\n",
    "    for j2 in range(i+1):\n",
    "        s = s+j2\n",
    "        print(s)"
   ]
  },
  {
   "cell_type": "code",
   "execution_count": 86,
   "metadata": {},
   "outputs": [
    {
     "name": "stdout",
     "output_type": "stream",
     "text": [
      "[5, 4, 3, 2, 1]\n"
     ]
    },
    {
     "data": {
      "text/plain": [
       "[1, 2, 3, 4, 5]"
      ]
     },
     "execution_count": 86,
     "metadata": {},
     "output_type": "execute_result"
    }
   ],
   "source": [
    "nu = 12345\n",
    "su = 0\n",
    "a= []\n",
    "while(nu!=0):\n",
    "    su = nu%10\n",
    "    a.append(su)\n",
    "    nu = nu//10\n",
    "    \n",
    "print(a)\n",
    "\n",
    "\n",
    "\n",
    "def quic_sor(a):\n",
    "    if len(a)<=1:\n",
    "        return a\n",
    "    p = a[len(a)//2]\n",
    "\n",
    "    l = [x for x in a if x<p]\n",
    "    m = [x for x in a if x==p]\n",
    "    r = [x for x in a if x>p]\n",
    "    \n",
    "    return quic_sor(l)+ m + quic_sor(r)\n",
    "    \n",
    "\n"
   ]
  },
  {
   "cell_type": "code",
   "execution_count": 90,
   "metadata": {},
   "outputs": [
    {
     "name": "stdout",
     "output_type": "stream",
     "text": [
      "5       5 \n",
      "  4   4   \n",
      "    3     \n",
      "  2   2   \n",
      "1       1 \n"
     ]
    }
   ],
   "source": [
    "quic_sor(a)\n",
    "\n",
    "for i3 in range(len(a)):\n",
    "    for j3 in range(len(a)):\n",
    "        if i3==j3 or j3==len(a)-i3-1:\n",
    "            print(a[i3],end=\" \")\n",
    "        else:\n",
    "            print(\" \",end=\" \")\n",
    "        \n",
    "    print()"
   ]
  },
  {
   "cell_type": "code",
   "execution_count": 99,
   "metadata": {},
   "outputs": [
    {
     "name": "stdout",
     "output_type": "stream",
     "text": [
      "3       2 \n",
      "  4   6   \n",
      "    1     \n",
      "  4   6   \n",
      "3       2 \n"
     ]
    }
   ],
   "source": [
    "nuu = 34162\n",
    "\n",
    "srt = str(nuu)\n",
    "srtr = srt[::-1]\n",
    "\n",
    "for z in range(len(srtr)):\n",
    "    for k in range(len(srtr)):\n",
    "        if z==n-k-1:\n",
    "            print(srtr[z],end=\" \")\n",
    "        elif z==k:\n",
    "            print(srt[z],end=\" \")\n",
    "        else:\n",
    "            print(\" \",end=\" \")\n",
    "    print()\n",
    "    \n",
    "\n"
   ]
  },
  {
   "cell_type": "code",
   "execution_count": null,
   "metadata": {},
   "outputs": [],
   "source": []
  }
 ],
 "metadata": {
  "kernelspec": {
   "display_name": "Python 3",
   "language": "python",
   "name": "python3"
  },
  "language_info": {
   "codemirror_mode": {
    "name": "ipython",
    "version": 3
   },
   "file_extension": ".py",
   "mimetype": "text/x-python",
   "name": "python",
   "nbconvert_exporter": "python",
   "pygments_lexer": "ipython3",
   "version": "3.10.5"
  }
 },
 "nbformat": 4,
 "nbformat_minor": 2
}
