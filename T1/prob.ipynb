{
 "cells": [
  {
   "cell_type": "code",
   "execution_count": 23,
   "metadata": {},
   "outputs": [
    {
     "name": "stdout",
     "output_type": "stream",
     "text": [
      "17,4,9\n",
      " For Amstrong\n",
      "not\n"
     ]
    }
   ],
   "source": [
    "#sum of digits\n",
    "\n",
    "a = [89 ,103 ,45]\n",
    "\n",
    "def sumofd(n):\n",
    "    s = 0\n",
    "    for j in n:\n",
    "        d=int(j)\n",
    "        s=s+d\n",
    "    return s\n",
    "    \n",
    "\n",
    "for i in range(len(a)):\n",
    "    p = sumofd(str(a[i]))\n",
    "    print(p,end=\"\")\n",
    "    if i!=len(a)-1:\n",
    "        print(\",\",end=\"\")\n",
    "        \n",
    "        \n",
    "print(\"\\n For Amstrong\")\n",
    "\n",
    "def sumofc(n):\n",
    "    s = 0\n",
    "    for j in n:\n",
    "        d=int(j)**3\n",
    "        s=s+d\n",
    "    return s==a\n",
    "\n",
    "a = int(input(\"Enter:\"))\n",
    "\n",
    "if sumofc(str(a)):\n",
    "    print(\"armstrong\")\n",
    "else:\n",
    "    print(\"not\")"
   ]
  },
  {
   "cell_type": "code",
   "execution_count": 18,
   "metadata": {},
   "outputs": [
    {
     "name": "stdout",
     "output_type": "stream",
     "text": [
      "35\n",
      "100011\n"
     ]
    }
   ],
   "source": [
    "#binary to decimal\n",
    "a = '100011'\n",
    "p = len(a)-1\n",
    "d = 0\n",
    "for i in a:\n",
    "    if i=='1':\n",
    "        d += 2**p\n",
    "    p-=1\n",
    "\n",
    "print(d)\n",
    "\n",
    "#decimal to binary\n",
    "n = 35\n",
    "binary_str = ''\n",
    "\n",
    "while(n>0):\n",
    "    rem = n%2\n",
    "    binary_str = binary_str + str(rem)\n",
    "    n//=2\n",
    "    \n",
    "print(binary_str[::-1])\n",
    "    \n"
   ]
  },
  {
   "cell_type": "code",
   "execution_count": 23,
   "metadata": {},
   "outputs": [
    {
     "name": "stdout",
     "output_type": "stream",
     "text": [
      "5\n",
      "5\n"
     ]
    }
   ],
   "source": [
    "array = [10,20,5,15]\n",
    "p = array[len(array)//2]\n",
    "print(p)\n",
    "\n",
    "for i in array:\n",
    "    if i==p:\n",
    "        print(i)\n"
   ]
  },
  {
   "cell_type": "code",
   "execution_count": 30,
   "metadata": {},
   "outputs": [
    {
     "data": {
      "text/plain": [
       "3"
      ]
     },
     "execution_count": 30,
     "metadata": {},
     "output_type": "execute_result"
    }
   ],
   "source": [
    "a = [[1,2],\n",
    "     [3,4]]\n",
    "a[1][0]"
   ]
  },
  {
   "cell_type": "code",
   "execution_count": 12,
   "metadata": {},
   "outputs": [
    {
     "name": "stdout",
     "output_type": "stream",
     "text": [
      "[[112, 42, 114, 119], [56, 125, 101, 49], [15, 78, 56, 43], [62, 98, 83, 108]]\n"
     ]
    }
   ],
   "source": [
    "a = [[112, 42, 83, 119], [56, 125, 56, 49], [15, 78, 101, 43], [62, 98, 114, 108]]\n",
    "\n",
    "for i in range(len(a)//2):\n",
    "    for j in range(len(a)):\n",
    "        if j==2:\n",
    "            a[len(a)-i-1][j],a[i][j] = a[i][j], a[len(a)-i-1][j]\n",
    "            \n",
    "print(a)"
   ]
  },
  {
   "cell_type": "code",
   "execution_count": 13,
   "metadata": {},
   "outputs": [
    {
     "name": "stdout",
     "output_type": "stream",
     "text": [
      "[[119, 114, 42, 112], [56, 125, 101, 49], [15, 78, 56, 43], [62, 98, 83, 108]]\n"
     ]
    }
   ],
   "source": [
    "for k in range(len(a)//2):\n",
    "    a[0][len(a)-k-1],a[0][k] = a[0][k],a[0][len(a)-k-1]\n",
    "    \n",
    "print(a)\n",
    "    "
   ]
  },
  {
   "cell_type": "code",
   "execution_count": 16,
   "metadata": {},
   "outputs": [
    {
     "name": "stdout",
     "output_type": "stream",
     "text": [
      "414\n"
     ]
    }
   ],
   "source": [
    "print(a[0][0]+a[1][1]+a[0][1]+a[1][0])"
   ]
  },
  {
   "cell_type": "code",
   "execution_count": 29,
   "metadata": {},
   "outputs": [
    {
     "name": "stdout",
     "output_type": "stream",
     "text": [
      "15\n"
     ]
    }
   ],
   "source": [
    "def is_prime(num):\n",
    "    if num <= 1:\n",
    "        return False\n",
    "    for i in range(2, int(num**0.5) + 1):\n",
    "        if num % i == 0:\n",
    "            return 0\n",
    "    return num\n",
    "\n",
    "a = [4,5,6,7,3]\n",
    "s= 0\n",
    "for i in a:\n",
    "    v = is_prime(i)\n",
    "    s = s+v\n",
    "    \n",
    "print(s)\n"
   ]
  },
  {
   "cell_type": "code",
   "execution_count": 57,
   "metadata": {},
   "outputs": [
    {
     "name": "stdout",
     "output_type": "stream",
     "text": [
      "Upper triangular matrix\n"
     ]
    }
   ],
   "source": [
    "matrix = [[1,2,3],\n",
    "            [0,4,5],\n",
    "            [0,0,1]]\n",
    "\n",
    "def is_upper_triangular(matrix):\n",
    "    n = len(matrix)\n",
    "    for i in range(n):\n",
    "        for j in range(0, n):\n",
    "            if i>j:\n",
    "                if matrix[i][j] == 0:\n",
    "                    return True\n",
    "    return False\n",
    "\n",
    "\n",
    "# Check if upper triangular\n",
    "if is_upper_triangular(matrix):\n",
    "    print(\"Upper triangular matrix\")\n",
    "else:\n",
    "    print(\"Not an Upper triangular matrix\")"
   ]
  },
  {
   "cell_type": "code",
   "execution_count": 43,
   "metadata": {},
   "outputs": [
    {
     "name": "stdout",
     "output_type": "stream",
     "text": [
      "[[3, 3, 6], [5, 2, 5], [7, 1, 4]]\n"
     ]
    }
   ],
   "source": [
    "a = [[3,5,7],\n",
    "     [3,2,1],\n",
    "     [6,5,4]]\n",
    "\n",
    "for i in range(len(a)):\n",
    "    for j in range(len(a)):\n",
    "        if i>j:\n",
    "            a[j][i],a[i][j] = a[i][j],a[j][i]\n",
    "            \n",
    "print(a)"
   ]
  },
  {
   "cell_type": "code",
   "execution_count": 50,
   "metadata": {},
   "outputs": [
    {
     "name": "stdout",
     "output_type": "stream",
     "text": [
      "32\n"
     ]
    }
   ],
   "source": [
    "a = [[3,5,7],\n",
    "     [3,2,1],\n",
    "     [6,5,4]]\n",
    "s = 0\n",
    "for i in range(len(a)):\n",
    "     for j in range(len(a)):\n",
    "          if i==0 or i==len(a)-1 or j==len(a)-i-1:\n",
    "               s = s+a[i][j]\n",
    "print(s)"
   ]
  },
  {
   "cell_type": "code",
   "execution_count": 69,
   "metadata": {},
   "outputs": [
    {
     "name": "stdout",
     "output_type": "stream",
     "text": [
      "Potato\n"
     ]
    }
   ],
   "source": [
    "a = [[1,2,3,4,5],\n",
    "     [6,7,8,9,10],\n",
    "     [11,12,13,14,15],\n",
    "     [16,17,18,19,20],\n",
    "     [21,22,23,24,25]]\n",
    "choice = int(input(\"Enter your choice:\"))\n",
    "i_i=int((choice-1)/5)\n",
    "i_j =((choice-1)%5)\n",
    "\n",
    "if i_i==0 or i_j==0 or i_j==len(a)-1:\n",
    "    print(\"Tomato\")\n",
    "else:\n",
    "    print(\"Potato\")\n"
   ]
  },
  {
   "cell_type": "code",
   "execution_count": null,
   "metadata": {},
   "outputs": [],
   "source": [
    "a = [[1,2,3,4,5],\n",
    "     [6,7,8,9,10],\n",
    "     [11,12,13,14,15],\n",
    "     [16,17,18,19,20],\n",
    "     [21,22,23,24,25]]\n",
    "\n"
   ]
  },
  {
   "cell_type": "code",
   "execution_count": 74,
   "metadata": {},
   "outputs": [
    {
     "name": "stdout",
     "output_type": "stream",
     "text": [
      "paaaalindrome\n"
     ]
    }
   ],
   "source": [
    "s = input()\n",
    "\n",
    "if (s[::-1])==s:\n",
    "    print(\"paaaalindrome\")\n",
    "\n",
    "else:\n",
    "    print(\"no paal\")\n"
   ]
  },
  {
   "cell_type": "code",
   "execution_count": 45,
   "metadata": {},
   "outputs": [
    {
     "name": "stdout",
     "output_type": "stream",
     "text": [
      "No Ana\n"
     ]
    }
   ],
   "source": [
    "s = ['p','a','n','d','a']\n",
    "s1 = ['p','a','n','d','a','p']\n",
    "\n",
    "if len(s)==len(s1) and sorted(s)==sorted(s1):\n",
    "    print(\"Ana\")\n",
    "else:\n",
    "    print(\"No Ana\")"
   ]
  },
  {
   "cell_type": "code",
   "execution_count": 29,
   "metadata": {},
   "outputs": [
    {
     "name": "stdout",
     "output_type": "stream",
     "text": [
      "55\n"
     ]
    }
   ],
   "source": [
    "s1 = '12abc43d'\n",
    "\n",
    "a = ['1','2','3','4','5','6','7','8','9','0']\n",
    "n = 0\n",
    "s = 0\n",
    "for j in s1:\n",
    "    if j in a:\n",
    "        n = n*10 + int(j)\n",
    "    else:\n",
    "        s = s+n\n",
    "        n = 0\n",
    "s+=n\n",
    "\n",
    "print(s)"
   ]
  },
  {
   "cell_type": "code",
   "execution_count": 42,
   "metadata": {},
   "outputs": [
    {
     "name": "stdout",
     "output_type": "stream",
     "text": [
      "['b', 'a', 'd', 'c', 'g', 'e', 'p']\n"
     ]
    }
   ],
   "source": [
    "n = 'abcdegp'\n",
    "a = [i for i in n]\n",
    "\n",
    "for i in range(0,len(n)-1,2):\n",
    "    a[i],a[i+1] = a[i+1],a[i]\n",
    "    \n",
    "print(a)"
   ]
  },
  {
   "cell_type": "code",
   "execution_count": 15,
   "metadata": {},
   "outputs": [
    {
     "name": "stdout",
     "output_type": "stream",
     "text": [
      "0\n"
     ]
    },
    {
     "ename": "TypeError",
     "evalue": "format() argument 2 must be str, not int",
     "output_type": "error",
     "traceback": [
      "\u001b[1;31m---------------------------------------------------------------------------\u001b[0m",
      "\u001b[1;31mTypeError\u001b[0m                                 Traceback (most recent call last)",
      "Input \u001b[1;32mIn [15]\u001b[0m, in \u001b[0;36m<cell line: 14>\u001b[1;34m()\u001b[0m\n\u001b[0;32m     10\u001b[0m     p\u001b[38;5;241m-\u001b[39m\u001b[38;5;241m=\u001b[39m\u001b[38;5;241m1\u001b[39m\n\u001b[0;32m     12\u001b[0m \u001b[38;5;28mprint\u001b[39m(v)\n\u001b[1;32m---> 14\u001b[0m \u001b[38;5;28mprint\u001b[39m(\u001b[38;5;28;43mformat\u001b[39;49m\u001b[43m(\u001b[49m\u001b[38;5;241;43m2\u001b[39;49m\u001b[43m,\u001b[49m\u001b[38;5;241;43m120\u001b[39;49m\u001b[43m)\u001b[49m)\n",
      "\u001b[1;31mTypeError\u001b[0m: format() argument 2 must be str, not int"
     ]
    }
   ],
   "source": [
    "# binary to decimal\n",
    "\n",
    "b = input(\"Enter the Binary:\")\n",
    "p = len(b)-1\n",
    "v = 0\n",
    "\n",
    "for i in b:\n",
    "    if int(i)==1:\n",
    "        v = v + 2**p\n",
    "    p-=1\n",
    "        \n",
    "print(v)\n",
    "\n",
    "\n",
    "\n",
    "\n"
   ]
  },
  {
   "cell_type": "code",
   "execution_count": 4,
   "metadata": {},
   "outputs": [
    {
     "name": "stdout",
     "output_type": "stream",
     "text": [
      "['h']\n"
     ]
    }
   ],
   "source": [
    "s = input()\n",
    "s1 = input()\n",
    "n = []\n",
    "for i in s:\n",
    "    if i not in s1:\n",
    "        n.append(i)\n",
    "    else:\n",
    "        pass\n",
    "\n",
    "print(n)\n"
   ]
  },
  {
   "cell_type": "code",
   "execution_count": 20,
   "metadata": {},
   "outputs": [
    {
     "name": "stdout",
     "output_type": "stream",
     "text": [
      "                                                                                                                                                                                                                                                                                                                                                                                                                                                                                                                                                                                                                                                                                                                                                                                                                                                                                                                                                                                                                                                 2\n"
     ]
    }
   ],
   "source": [
    "print(format(2,'1010'))"
   ]
  },
  {
   "cell_type": "code",
   "execution_count": 1,
   "metadata": {},
   "outputs": [
    {
     "data": {
      "text/plain": [
       "[5, 10, 15, 20]"
      ]
     },
     "execution_count": 1,
     "metadata": {},
     "output_type": "execute_result"
    }
   ],
   "source": [
    "def quick_s(a):\n",
    "    if len(a)<=1:\n",
    "        return a\n",
    "    \n",
    "    p = a[len(a)//2]\n",
    "    \n",
    "    l = [x for x in a if x<p]\n",
    "    m = [x for x in a if x==p]\n",
    "    r = [x for x in a if x>p]\n",
    "\n",
    "    return quick_s(l) + m + quick_s(r)\n",
    "\n",
    "\n",
    "array = [10,20,5,15]\n",
    "\n",
    "quick_s(array)"
   ]
  },
  {
   "cell_type": "code",
   "execution_count": 7,
   "metadata": {},
   "outputs": [
    {
     "name": "stdout",
     "output_type": "stream",
     "text": [
      "10 20\n"
     ]
    }
   ],
   "source": [
    "a = [10,20,5,15]\n",
    "\n",
    "ma = max(a)\n",
    "mi = max(a)\n",
    "\n",
    "ind_ma = a.index(ma)\n",
    "\n",
    "for i in range(ind_ma):\n",
    "    if mi <= a[i]:\n",
    "        mi = mi\n",
    "    elif n_mi >= a[i]:\n",
    "        n_mi = a[i]\n",
    "    else:\n",
    "        n_mi = a[i]\n",
    "        \n",
    "if n_mi:\n",
    "    print(n_mi,ma)\n",
    "else:\n",
    "    print(mi,ma)\n"
   ]
  },
  {
   "cell_type": "code",
   "execution_count": 8,
   "metadata": {},
   "outputs": [
    {
     "ename": "TypeError",
     "evalue": "list expected at most 1 argument, got 2",
     "output_type": "error",
     "traceback": [
      "\u001b[1;31m---------------------------------------------------------------------------\u001b[0m",
      "\u001b[1;31mTypeError\u001b[0m                                 Traceback (most recent call last)",
      "Input \u001b[1;32mIn [8]\u001b[0m, in \u001b[0;36m<cell line: 1>\u001b[1;34m()\u001b[0m\n\u001b[1;32m----> 1\u001b[0m l \u001b[38;5;241m=\u001b[39m \u001b[38;5;28mmap\u001b[39m(\u001b[38;5;28;43mlist\u001b[39;49m\u001b[43m(\u001b[49m\u001b[38;5;28;43mint\u001b[39;49m\u001b[43m,\u001b[49m\u001b[38;5;28;43minput\u001b[39;49m\u001b[43m(\u001b[49m\u001b[43m)\u001b[49m\u001b[38;5;241;43m.\u001b[39;49m\u001b[43msplit\u001b[49m\u001b[43m(\u001b[49m\u001b[43m)\u001b[49m\u001b[43m)\u001b[49m)\n",
      "\u001b[1;31mTypeError\u001b[0m: list expected at most 1 argument, got 2"
     ]
    }
   ],
   "source": [
    "\n",
    "arr = list(map(int, input().strip().split()))"
   ]
  },
  {
   "cell_type": "code",
   "execution_count": 3,
   "metadata": {},
   "outputs": [
    {
     "name": "stdout",
     "output_type": "stream",
     "text": [
      "0\n"
     ]
    }
   ],
   "source": [
    "#!/bin/python3\n",
    "\n",
    "import math\n",
    "import os\n",
    "import random\n",
    "import re\n",
    "import sys\n",
    "\n",
    "\n",
    "\n",
    "#\n",
    "# Complete the 'palindromeIndex' function below.\n",
    "#\n",
    "# The function is expected to return an INTEGER.\n",
    "# The function accepts STRING s as parameter.\n",
    "#\n",
    "\n",
    "def palindromeIndex(s):\n",
    "    n = len(s)\n",
    "        \n",
    "    def is_pal(ste, st, en):\n",
    "        while(st < en):\n",
    "            if ste[st] != ste[en]:\n",
    "                return False\n",
    "            st +=1\n",
    "            en -=1\n",
    "        return True\n",
    "        \n",
    "    if is_pal(s, 0, n-1):\n",
    "        return -1\n",
    "    \n",
    "    for i in range(len(s)):\n",
    "        if is_pal(s, i+1, n-1):\n",
    "            return i\n",
    "        elif is_pal(s, 0, n-2-i):\n",
    "            return n-1-i\n",
    "    \n",
    "    return -1\n",
    "\n",
    "if __name__ == '__main__':\n",
    "\n",
    "    q = int(input().strip())\n",
    "\n",
    "    for q_itr in range(q):\n",
    "        s = input()\n",
    "\n",
    "        result = palindromeIndex(s)\n",
    "\n",
    "    print(result)\n"
   ]
  },
  {
   "cell_type": "code",
   "execution_count": 8,
   "metadata": {},
   "outputs": [
    {
     "name": "stdout",
     "output_type": "stream",
     "text": [
      "123123123123\n"
     ]
    }
   ],
   "source": [
    "n ='123'\n",
    "k = 4\n",
    "c_s = n * k\n",
    "\n",
    "print(c_s)"
   ]
  }
 ],
 "metadata": {
  "kernelspec": {
   "display_name": "Python 3",
   "language": "python",
   "name": "python3"
  },
  "language_info": {
   "codemirror_mode": {
    "name": "ipython",
    "version": 3
   },
   "file_extension": ".py",
   "mimetype": "text/x-python",
   "name": "python",
   "nbconvert_exporter": "python",
   "pygments_lexer": "ipython3",
   "version": "3.10.5"
  }
 },
 "nbformat": 4,
 "nbformat_minor": 2
}
