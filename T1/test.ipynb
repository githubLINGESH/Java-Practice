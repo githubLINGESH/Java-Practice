{
 "cells": [
  {
   "cell_type": "code",
   "execution_count": 59,
   "metadata": {},
   "outputs": [
    {
     "name": "stdout",
     "output_type": "stream",
     "text": [
      "5\n",
      "1\n",
      "-1\n"
     ]
    }
   ],
   "source": [
    "#a = [7, 1, 5, 3, 6, 4]\n",
    "a = [7,6,4,3,2,1]\n",
    "mi = min(a)\n",
    "ci = 0\n",
    "def getind(mi):\n",
    "    for i in range(len(a)):\n",
    "        if a[i]==mi:\n",
    "            ci = i\n",
    "    return ci\n",
    "\n",
    "        \n",
    "get_mi = getind(mi)\n",
    "print(get_mi)\n",
    "\n",
    "n = []\n",
    "for j in range(get_mi,len(a)):\n",
    "    n.append(a[j])\n",
    "    \n",
    "ma = max(n)\n",
    "\n",
    "print(ma)\n",
    "\n",
    "if ma>mi:\n",
    "    print(ma-mi)\n",
    "else:\n",
    "    print(\"-1\")\n",
    "    \n",
    "    \n"
   ]
  },
  {
   "cell_type": "code",
   "execution_count": 71,
   "metadata": {},
   "outputs": [
    {
     "name": "stdout",
     "output_type": "stream",
     "text": [
      "5\n"
     ]
    }
   ],
   "source": [
    "a = [7, 1, 5, 3, 6, 4]\n",
    "\n",
    "pr = 0\n",
    "for i in range(len(a)):\n",
    "    for j in range(i+1,len(a)):\n",
    "        if a[i]<a[j]:\n",
    "            if a[j]-a[i] > pr:\n",
    "                pr = a[j]-a[i]\n",
    "            \n",
    "if pr>0:\n",
    "    print(pr)\n",
    "else:\n",
    "    print('-1')\n",
    "\n"
   ]
  },
  {
   "cell_type": "code",
   "execution_count": 58,
   "metadata": {},
   "outputs": [
    {
     "name": "stdout",
     "output_type": "stream",
     "text": [
      "* * * * * * \n",
      "* 0 0 0 0 * \n",
      "* 0 * * 0 * \n",
      "* 0 * * 0 * \n",
      "* 0 * * 0 * \n",
      "* 0 0 0 0 * \n",
      "* * * * * * \n"
     ]
    }
   ],
   "source": [
    "r = 7\n",
    "c = 6\n",
    "\n",
    "for i in range(r):\n",
    "    for j in range(c):\n",
    "        if min(i,j , r-i-1 , c-j-1)%2==0:\n",
    "            print(\"*\",end=\" \")\n",
    "        else:\n",
    "            print(\"0\",end=\" \")\n",
    "    print()"
   ]
  },
  {
   "cell_type": "code",
   "execution_count": null,
   "metadata": {},
   "outputs": [],
   "source": []
  }
 ],
 "metadata": {
  "kernelspec": {
   "display_name": "Python 3",
   "language": "python",
   "name": "python3"
  },
  "language_info": {
   "codemirror_mode": {
    "name": "ipython",
    "version": 3
   },
   "file_extension": ".py",
   "mimetype": "text/x-python",
   "name": "python",
   "nbconvert_exporter": "python",
   "pygments_lexer": "ipython3",
   "version": "3.10.5"
  }
 },
 "nbformat": 4,
 "nbformat_minor": 2
}
