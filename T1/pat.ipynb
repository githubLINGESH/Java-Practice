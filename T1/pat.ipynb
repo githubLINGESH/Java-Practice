{
 "cells": [
  {
   "cell_type": "code",
   "execution_count": 12,
   "metadata": {},
   "outputs": [
    {
     "name": "stdout",
     "output_type": "stream",
     "text": [
      "     *\n",
      "     *\n",
      "               "
     ]
    }
   ],
   "source": [
    "c = 0\n",
    "for i in range(0,5):\n",
    "    for j in range(0,5):\n",
    "        print(\" \",end=\"\")\n",
    "    \n",
    "    if i==c:\n",
    "        print(\"*\")\n",
    "    c=+1"
   ]
  },
  {
   "cell_type": "code",
   "execution_count": 62,
   "metadata": {},
   "outputs": [],
   "source": [
    "n = int(input(\"Enter the Total Trial of Toss:\"))\n",
    "r = int(input(\"Enter the Desired Outcomes of Toss\"))\n",
    "\n"
   ]
  },
  {
   "cell_type": "code",
   "execution_count": 63,
   "metadata": {},
   "outputs": [],
   "source": [
    "\n",
    "def fact_n(num):\n",
    "    s = 1\n",
    "    for i in range(1,num +1):\n",
    "        s = s * i\n",
    "    \n",
    "    return s\n",
    "\n",
    "\n"
   ]
  },
  {
   "cell_type": "code",
   "execution_count": 64,
   "metadata": {},
   "outputs": [
    {
     "name": "stdout",
     "output_type": "stream",
     "text": [
      "0.250000\n"
     ]
    }
   ],
   "source": [
    "powe = 2**n\n",
    "\n",
    "print('{:.6f}'.format((fact_n(n)/(fact_n(r)*fact_n(n-r))/powe)))\n",
    "\n",
    "#recursive approach\n",
    "\n"
   ]
  },
  {
   "cell_type": "code",
   "execution_count": 95,
   "metadata": {},
   "outputs": [],
   "source": [
    "a = [[0,1,2],\n",
    "     [3,4,5],\n",
    "     [6,7,8]]\n"
   ]
  },
  {
   "cell_type": "code",
   "execution_count": 94,
   "metadata": {},
   "outputs": [
    {
     "name": "stdout",
     "output_type": "stream",
     "text": [
      "260\n",
      "150 110\n"
     ]
    }
   ],
   "source": [
    "arr = [[10,23,30],\n",
    "       [45,60,90],\n",
    "       [20,80,80]]\n",
    "\n",
    "num_a = len(arr)-1\n",
    "d1 = 0\n",
    "d2 = 0\n",
    "\n",
    "for i in range(len(arr)):\n",
    "    d1 = d1 + arr[i][i]\n",
    "    d2 = d2 + arr[i][num_a]\n",
    "    num_a=num_a-1\n",
    "\n",
    "print(d1+d2)\n",
    "print(d1,d2)"
   ]
  },
  {
   "cell_type": "code",
   "execution_count": null,
   "metadata": {},
   "outputs": [],
   "source": []
  }
 ],
 "metadata": {
  "kernelspec": {
   "display_name": "Python 3",
   "language": "python",
   "name": "python3"
  },
  "language_info": {
   "codemirror_mode": {
    "name": "ipython",
    "version": 3
   },
   "file_extension": ".py",
   "mimetype": "text/x-python",
   "name": "python",
   "nbconvert_exporter": "python",
   "pygments_lexer": "ipython3",
   "version": "3.10.5"
  }
 },
 "nbformat": 4,
 "nbformat_minor": 2
}
